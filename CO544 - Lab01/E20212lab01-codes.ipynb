{
  "nbformat": 4,
  "nbformat_minor": 0,
  "metadata": {
    "colab": {
      "provenance": []
    },
    "kernelspec": {
      "name": "python3",
      "display_name": "Python 3"
    },
    "language_info": {
      "name": "python"
    }
  },
  "cells": [
    {
      "cell_type": "markdown",
      "source": [
        "#Exercise 1: NumPy Advanced Operations"
      ],
      "metadata": {
        "id": "VGZwFz_ThBKp"
      }
    },
    {
      "cell_type": "markdown",
      "source": [
        "### 1. Generate an array of 20 random integers between 0 and 100:"
      ],
      "metadata": {
        "id": "x3bEwq5ShDPt"
      }
    },
    {
      "cell_type": "code",
      "execution_count": 1,
      "metadata": {
        "colab": {
          "base_uri": "https://localhost:8080/"
        },
        "id": "23B7QtzJg2ib",
        "outputId": "91e28b08-3659-4af9-dc46-26c6eb9e5c4f"
      },
      "outputs": [
        {
          "output_type": "stream",
          "name": "stdout",
          "text": [
            "Original␣array: [45 79 35 54 11 28 63 32  6 48 50 89 77 16 69 15 30 72 54 99]\n"
          ]
        }
      ],
      "source": [
        "import numpy as np\n",
        "arr = np.random.randint(0, 101, size=20)\n",
        "print(\"Original␣array:\", arr)"
      ]
    },
    {
      "cell_type": "markdown",
      "source": [
        "### 2. Filter values ≥ 50 using boolean indexing:"
      ],
      "metadata": {
        "id": "bB7SScvXhShz"
      }
    },
    {
      "cell_type": "code",
      "source": [
        "mask = arr >= 50\n",
        "#print(type(mask))\n",
        "filtered = arr[mask]\n",
        "print(\"Values >= 50:\", filtered)"
      ],
      "metadata": {
        "colab": {
          "base_uri": "https://localhost:8080/"
        },
        "id": "YSfRjh7Ihb9r",
        "outputId": "29f6f10d-21a2-4906-ed88-331814a78078"
      },
      "execution_count": 2,
      "outputs": [
        {
          "output_type": "stream",
          "name": "stdout",
          "text": [
            "Values >= 50: [79 54 63 50 89 77 69 72 54 99]\n"
          ]
        }
      ]
    },
    {
      "cell_type": "markdown",
      "source": [
        "### 3. Demonstrate broadcasting:"
      ],
      "metadata": {
        "id": "BXjyidd-hvMy"
      }
    },
    {
      "cell_type": "code",
      "source": [
        "small = np.arange(5)\n",
        "large = arr[:20]. reshape(4,5)\n",
        "result = large + small\n",
        "print(large)\n",
        "print(small)\n",
        "print(result)"
      ],
      "metadata": {
        "colab": {
          "base_uri": "https://localhost:8080/"
        },
        "id": "bguOG8jrh2ix",
        "outputId": "037960fe-5fa3-4a01-c758-bf266507640e"
      },
      "execution_count": 3,
      "outputs": [
        {
          "output_type": "stream",
          "name": "stdout",
          "text": [
            "[[45 79 35 54 11]\n",
            " [28 63 32  6 48]\n",
            " [50 89 77 16 69]\n",
            " [15 30 72 54 99]]\n",
            "[0 1 2 3 4]\n",
            "[[ 45  80  37  57  15]\n",
            " [ 28  64  34   9  52]\n",
            " [ 50  90  79  19  73]\n",
            " [ 15  31  74  57 103]]\n"
          ]
        }
      ]
    },
    {
      "cell_type": "markdown",
      "source": [
        "### 4. Compute dot product of two arrays of length 10:"
      ],
      "metadata": {
        "id": "KH86fMAykXG3"
      }
    },
    {
      "cell_type": "code",
      "source": [
        "a =np.arange(10)\n",
        "b =np.linspace(0, 9, 10)\n",
        "dp = np.dot(a, b)\n",
        "print(\"Dot␣product:\", dp)"
      ],
      "metadata": {
        "colab": {
          "base_uri": "https://localhost:8080/"
        },
        "id": "6Wj8JA3_kaSl",
        "outputId": "d6d635b5-6a5a-4c58-dcff-863d6a4e8927"
      },
      "execution_count": 4,
      "outputs": [
        {
          "output_type": "stream",
          "name": "stdout",
          "text": [
            "Dot␣product: 285.0\n"
          ]
        }
      ]
    },
    {
      "cell_type": "markdown",
      "source": [
        "#Exercise 2: Matplotlib Subplots"
      ],
      "metadata": {
        "id": "SvfjYIddk5b8"
      }
    },
    {
      "cell_type": "markdown",
      "source": [
        "### 1. Prepare data for sine and cosine functions:"
      ],
      "metadata": {
        "id": "79gJ_i0ek73U"
      }
    },
    {
      "cell_type": "code",
      "source": [
        "import numpy as np\n",
        "x =np.linspace(0, 2*np.pi, 200)\n",
        "y1 = np.sin(x)\n",
        "y2 = np.cos(x)"
      ],
      "metadata": {
        "id": "TrAdmlBWk-VM"
      },
      "execution_count": 5,
      "outputs": []
    },
    {
      "cell_type": "markdown",
      "source": [
        "### 2. Create subplots:"
      ],
      "metadata": {
        "id": "p0k-t5CXmA0C"
      }
    },
    {
      "cell_type": "code",
      "source": [
        "import matplotlib.pyplot as plt\n",
        "fig , axes = plt.subplots(1,2,sharex=True,figsize=(10,4))\n",
        "axes [0]. plot(x, y1)\n",
        "axes [0]. set( title =\"Sine Wave\", xlabel=\"x\", ylabel=\"sin(x)\")\n",
        "axes [1]. plot(x, y2)\n",
        "axes [1]. set( title =\"Cosine Wave\", xlabel=\"x\", ylabel=\"cos(x)\")\n",
        "fig . suptitle (\"Sine and Cosine Functions\")\n",
        "plt. savefig('trig_functions.png')\n",
        "plt.show()"
      ],
      "metadata": {
        "colab": {
          "base_uri": "https://localhost:8080/",
          "height": 428
        },
        "id": "A7y9cWJ5mEX_",
        "outputId": "f4ea8bbc-6847-4833-c2f1-1ab8bfb7a7a8"
      },
      "execution_count": 6,
      "outputs": [
        {
          "output_type": "display_data",
          "data": {
            "text/plain": [
              "<Figure size 1000x400 with 2 Axes>"
            ],
            "image/png": "[encoded data removed]"
          },
          "metadata": {}
        }
      ]
    },
    {
      "cell_type": "markdown",
      "source": [
        "#Exercise 3: Pandas Cleaning & Preprocessing"
      ],
      "metadata": {
        "id": "_K5rFOWPnJai"
      }
    },
    {
      "cell_type": "markdown",
      "source": [
        "### 1. Load Titanic dataset:"
      ],
      "metadata": {
        "id": "ZPpO7_0_nN4s"
      }
    },
    {
      "cell_type": "code",
      "source": [
        "import pandas as pd\n",
        "url = \"https://raw.githubusercontent.com/datasciencedojo/datasets/master/titanic.csv\"\n",
        "df = pd.read_csv(url)\n",
        "\n",
        "\n",
        "# # Show all rows\n",
        "# pd.set_option('display.max_rows', None)\n",
        "\n",
        "# # Show all columns\n",
        "# pd.set_option('display.max_columns', None)\n",
        "\n",
        "# # Optionally, prevent column truncation\n",
        "# pd.set_option('display.width', None)\n",
        "# pd.set_option('display.max_colwidth', None)\n",
        "# print(df)\n",
        "\n",
        "print(df.info())"
      ],
      "metadata": {
        "colab": {
          "base_uri": "https://localhost:8080/"
        },
        "id": "9RU-lOY1nP4i",
        "outputId": "237f6b70-a626-4e80-8513-d417622d1a62"
      },
      "execution_count": 7,
      "outputs": [
        {
          "output_type": "stream",
          "name": "stdout",
          "text": [
            "<class 'pandas.core.frame.DataFrame'>\n",
            "RangeIndex: 891 entries, 0 to 890\n",
            "Data columns (total 12 columns):\n",
            " #   Column       Non-Null Count  Dtype  \n",
            "---  ------       --------------  -----  \n",
            " 0   PassengerId  891 non-null    int64  \n",
            " 1   Survived     891 non-null    int64  \n",
            " 2   Pclass       891 non-null    int64  \n",
            " 3   Name         891 non-null    object \n",
            " 4   Sex          891 non-null    object \n",
            " 5   Age          714 non-null    float64\n",
            " 6   SibSp        891 non-null    int64  \n",
            " 7   Parch        891 non-null    int64  \n",
            " 8   Ticket       891 non-null    object \n",
            " 9   Fare         891 non-null    float64\n",
            " 10  Cabin        204 non-null    object \n",
            " 11  Embarked     889 non-null    object \n",
            "dtypes: float64(2), int64(5), object(5)\n",
            "memory usage: 83.7+ KB\n",
            "None\n"
          ]
        }
      ]
    },
    {
      "cell_type": "markdown",
      "source": [
        "### 2. Impute missing values:"
      ],
      "metadata": {
        "id": "QOdFNnPMp3pQ"
      }
    },
    {
      "cell_type": "code",
      "source": [
        "df['Age'].fillna(df['Age'].median(), inplace=True)\n",
        "df['Embarked'].fillna(df['Embarked'].mode()[0], inplace=True)"
      ],
      "metadata": {
        "colab": {
          "base_uri": "https://localhost:8080/"
        },
        "id": "WIRi3HF9p69X",
        "outputId": "d59261e4-7474-4000-dec0-26e27604f4c0"
      },
      "execution_count": 8,
      "outputs": [
        {
          "output_type": "stream",
          "name": "stderr",
          "text": [
            "<ipython-input-8-410e0d28aecf>:1: FutureWarning: A value is trying to be set on a copy of a DataFrame or Series through chained assignment using an inplace method.\n",
            "The behavior will change in pandas 3.0. This inplace method will never work because the intermediate object on which we are setting values always behaves as a copy.\n",
            "\n",
            "For example, when doing 'df[col].method(value, inplace=True)', try using 'df.method({col: value}, inplace=True)' or df[col] = df[col].method(value) instead, to perform the operation inplace on the original object.\n",
            "\n",
            "\n",
            "  df['Age'].fillna(df['Age'].median(), inplace=True)\n",
            "<ipython-input-8-410e0d28aecf>:2: FutureWarning: A value is trying to be set on a copy of a DataFrame or Series through chained assignment using an inplace method.\n",
            "The behavior will change in pandas 3.0. This inplace method will never work because the intermediate object on which we are setting values always behaves as a copy.\n",
            "\n",
            "For example, when doing 'df[col].method(value, inplace=True)', try using 'df.method({col: value}, inplace=True)' or df[col] = df[col].method(value) instead, to perform the operation inplace on the original object.\n",
            "\n",
            "\n",
            "  df['Embarked'].fillna(df['Embarked'].mode()[0], inplace=True)\n"
          ]
        }
      ]
    },
    {
      "cell_type": "markdown",
      "source": [
        "### 3. Drop duplicates:"
      ],
      "metadata": {
        "id": "BMEKCK-PtP-S"
      }
    },
    {
      "cell_type": "code",
      "source": [
        "df.drop_duplicates(inplace=True)"
      ],
      "metadata": {
        "id": "63yrugu-tVfa"
      },
      "execution_count": 9,
      "outputs": []
    },
    {
      "cell_type": "markdown",
      "source": [
        "###4. Convert and detect outliers in Fare:"
      ],
      "metadata": {
        "id": "xx0vly8MtYeS"
      }
    },
    {
      "cell_type": "code",
      "source": [
        "df['Fare_int'] = df['Fare'].round().astype(int)\n",
        "Q1 = df['Fare_int'].quantile(0.25)\n",
        "Q3 = df['Fare_int'].quantile(0.75)\n",
        "IQR = Q3 - Q1\n",
        "outliers = df[(df['Fare_int'] < Q1 - 1.5 * IQR) | (df['Fare_int'] > Q3 + 1.5 * IQR)]\n",
        "print(outliers)"
      ],
      "metadata": {
        "colab": {
          "base_uri": "https://localhost:8080/"
        },
        "id": "urJfog_Ntb1Q",
        "outputId": "6ae16015-117c-4500-b567-a9acdfa66a9e"
      },
      "execution_count": 10,
      "outputs": [
        {
          "output_type": "stream",
          "name": "stdout",
          "text": [
            "     PassengerId  Survived  Pclass  \\\n",
            "1              2         1       1   \n",
            "27            28         0       1   \n",
            "31            32         1       1   \n",
            "34            35         0       1   \n",
            "52            53         1       1   \n",
            "..           ...       ...     ...   \n",
            "846          847         0       3   \n",
            "849          850         1       1   \n",
            "856          857         1       1   \n",
            "863          864         0       3   \n",
            "879          880         1       1   \n",
            "\n",
            "                                                  Name     Sex   Age  SibSp  \\\n",
            "1    Cumings, Mrs. John Bradley (Florence Briggs Th...  female  38.0      1   \n",
            "27                      Fortune, Mr. Charles Alexander    male  19.0      3   \n",
            "31      Spencer, Mrs. William Augustus (Marie Eugenie)  female  28.0      1   \n",
            "34                             Meyer, Mr. Edgar Joseph    male  28.0      1   \n",
            "52            Harper, Mrs. Henry Sleeper (Myna Haxtun)  female  49.0      1   \n",
            "..                                                 ...     ...   ...    ...   \n",
            "846                           Sage, Mr. Douglas Bullen    male  28.0      8   \n",
            "849       Goldenberg, Mrs. Samuel L (Edwiga Grabowska)  female  28.0      1   \n",
            "856         Wick, Mrs. George Dennick (Mary Hitchcock)  female  45.0      1   \n",
            "863                  Sage, Miss. Dorothy Edith \"Dolly\"  female  28.0      8   \n",
            "879      Potter, Mrs. Thomas Jr (Lily Alexenia Wilson)  female  56.0      0   \n",
            "\n",
            "     Parch    Ticket      Fare        Cabin Embarked  Fare_int  \n",
            "1        0  PC 17599   71.2833          C85        C        71  \n",
            "27       2     19950  263.0000  C23 C25 C27        S       263  \n",
            "31       0  PC 17569  146.5208          B78        C       147  \n",
            "34       0  PC 17604   82.1708          NaN        C        82  \n",
            "52       0  PC 17572   76.7292          D33        C        77  \n",
            "..     ...       ...       ...          ...      ...       ...  \n",
            "846      2  CA. 2343   69.5500          NaN        S        70  \n",
            "849      0     17453   89.1042          C92        C        89  \n",
            "856      1     36928  164.8667          NaN        S       165  \n",
            "863      2  CA. 2343   69.5500          NaN        S        70  \n",
            "879      1     11767   83.1583          C50        C        83  \n",
            "\n",
            "[116 rows x 13 columns]\n"
          ]
        }
      ]
    },
    {
      "cell_type": "markdown",
      "source": [
        "#6 Exercise 4: Pandas Essentials"
      ],
      "metadata": {
        "id": "kTEdVXmUxLia"
      }
    },
    {
      "cell_type": "markdown",
      "source": [
        "###1. Create and inspect Series:"
      ],
      "metadata": {
        "id": "rr-YBUrwxQLb"
      }
    },
    {
      "cell_type": "code",
      "source": [
        "s1 = pd.Series ([1,2,4,5])\n",
        "print(s1.shape, s1.index)\n",
        "s2 = pd.Series ([1,2,4,5], index=['a','b','c','d'])\n",
        "print(s2)"
      ],
      "metadata": {
        "colab": {
          "base_uri": "https://localhost:8080/"
        },
        "id": "HMMVVbEjxPYC",
        "outputId": "d953e969-87e8-46aa-e6af-a1993f7590dd"
      },
      "execution_count": 11,
      "outputs": [
        {
          "output_type": "stream",
          "name": "stdout",
          "text": [
            "(4,) RangeIndex(start=0, stop=4, step=1)\n",
            "a    1\n",
            "b    2\n",
            "c    4\n",
            "d    5\n",
            "dtype: int64\n"
          ]
        }
      ]
    },
    {
      "cell_type": "markdown",
      "source": [
        "### 2. Build DataFrame and summarize:"
      ],
      "metadata": {
        "id": "Z5lTW95hyV-2"
      }
    },
    {
      "cell_type": "code",
      "source": [
        "\n",
        "df1 = pd.DataFrame({'name':['Alice','Bob','Charlie' ], 'score' :[85,92,78]})\n",
        "df2 = pd.DataFrame(np.random.randn(100,3),columns=list('ABC'))\n",
        "print(df1.head())\n",
        "print(df1.tail ())\n",
        "df1.info()\n",
        "print(df1.describe())"
      ],
      "metadata": {
        "colab": {
          "base_uri": "https://localhost:8080/"
        },
        "id": "xReLPlNhyZdO",
        "outputId": "23e91bf7-2bd7-4c4f-b752-4d0a5c7e3719"
      },
      "execution_count": 12,
      "outputs": [
        {
          "output_type": "stream",
          "name": "stdout",
          "text": [
            "      name  score\n",
            "0    Alice     85\n",
            "1      Bob     92\n",
            "2  Charlie     78\n",
            "      name  score\n",
            "0    Alice     85\n",
            "1      Bob     92\n",
            "2  Charlie     78\n",
            "<class 'pandas.core.frame.DataFrame'>\n",
            "RangeIndex: 3 entries, 0 to 2\n",
            "Data columns (total 2 columns):\n",
            " #   Column  Non-Null Count  Dtype \n",
            "---  ------  --------------  ----- \n",
            " 0   name    3 non-null      object\n",
            " 1   score   3 non-null      int64 \n",
            "dtypes: int64(1), object(1)\n",
            "memory usage: 180.0+ bytes\n",
            "       score\n",
            "count    3.0\n",
            "mean    85.0\n",
            "std      7.0\n",
            "min     78.0\n",
            "25%     81.5\n",
            "50%     85.0\n",
            "75%     88.5\n",
            "max     92.0\n"
          ]
        }
      ]
    },
    {
      "cell_type": "markdown",
      "source": [
        "### 3. Indexing with loc/iloc, sorting, and dropping:"
      ],
      "metadata": {
        "id": "HAYswwOR01Sk"
      }
    },
    {
      "cell_type": "code",
      "source": [
        "df1.loc [0, 'score'], df2. iloc [2]\n",
        "df2_sorted = df2.sort_values('A',ascending=False)\n",
        "df2_sorted.drop(['B'], axis=1).head()"
      ],
      "metadata": {
        "colab": {
          "base_uri": "https://localhost:8080/",
          "height": 206
        },
        "id": "woAlFsqE053s",
        "outputId": "e8b8923b-7b1e-4ae9-bf21-8d59fe6091e3"
      },
      "execution_count": 13,
      "outputs": [
        {
          "output_type": "execute_result",
          "data": {
            "text/plain": [
              "           A         C\n",
              "40  2.602948  0.246769\n",
              "88  2.383123 -1.078050\n",
              "68  2.150137 -0.109012\n",
              "8   2.068643 -1.094649\n",
              "95  1.946029 -1.032057"
            ],
            "text/html": [
              "\n",
              "  <div id=\"df-5cc9ef92-6b19-408c-849f-9ad556f109c2\" class=\"colab-df-container\">\n",
              "    <div>\n",
              "<style scoped>\n",
              "    .dataframe tbody tr th:only-of-type {\n",
              "        vertical-align: middle;\n",
              "    }\n",
              "\n",
              "    .dataframe tbody tr th {\n",
              "        vertical-align: top;\n",
              "    }\n",
              "\n",
              "    .dataframe thead th {\n",
              "        text-align: right;\n",
              "    }\n",
              "</style>\n",
              "<table border=\"1\" class=\"dataframe\">\n",
              "  <thead>\n",
              "    <tr style=\"text-align: right;\">\n",
              "      <th></th>\n",
              "      <th>A</th>\n",
              "      <th>C</th>\n",
              "    </tr>\n",
              "  </thead>\n",
              "  <tbody>\n",
              "    <tr>\n",
              "      <th>40</th>\n",
              "      <td>2.602948</td>\n",
              "      <td>0.246769</td>\n",
              "    </tr>\n",
              "    <tr>\n",
              "      <th>88</th>\n",
              "      <td>2.383123</td>\n",
              "      <td>-1.078050</td>\n",
              "    </tr>\n",
              "    <tr>\n",
              "      <th>68</th>\n",
              "      <td>2.150137</td>\n",
              "      <td>-0.109012</td>\n",
              "    </tr>\n",
              "    <tr>\n",
              "      <th>8</th>\n",
              "      <td>2.068643</td>\n",
              "      <td>-1.094649</td>\n",
              "    </tr>\n",
              "    <tr>\n",
              "      <th>95</th>\n",
              "      <td>1.946029</td>\n",
              "      <td>-1.032057</td>\n",
              "    </tr>\n",
              "  </tbody>\n",
              "</table>\n",
              "</div>\n",
              "    <div class=\"colab-df-buttons\">\n",
              "\n",
              "  <div class=\"colab-df-container\">\n",
              "    <button class=\"colab-df-convert\" onclick=\"convertToInteractive('df-5cc9ef92-6b19-408c-849f-9ad556f109c2')\"\n",
              "            title=\"Convert this dataframe to an interactive table.\"\n",
              "            style=\"display:none;\">\n",
              "\n",
              "  <svg xmlns=\"http://www.w3.org/2000/svg\" height=\"24px\" viewBox=\"0 -960 960 960\">\n",
              "    <path d=\"M120-120v-720h720v720H120Zm60-500h600v-160H180v160Zm220 220h160v-160H400v160Zm0 220h160v-160H400v160ZM180-400h160v-160H180v160Zm440 0h160v-160H620v160ZM180-180h160v-160H180v160Zm440 0h160v-160H620v160Z\"/>\n",
              "  </svg>\n",
              "    </button>\n",
              "\n",
              "  <style>\n",
              "    .colab-df-container {\n",
              "      display:flex;\n",
              "      gap: 12px;\n",
              "    }\n",
              "\n",
              "    .colab-df-convert {\n",
              "      background-color: #E8F0FE;\n",
              "      border: none;\n",
              "      border-radius: 50%;\n",
              "      cursor: pointer;\n",
              "      display: none;\n",
              "      fill: #1967D2;\n",
              "      height: 32px;\n",
              "      padding: 0 0 0 0;\n",
              "      width: 32px;\n",
              "    }\n",
              "\n",
              "    .colab-df-convert:hover {\n",
              "      background-color: #E2EBFA;\n",
              "      box-shadow: 0px 1px 2px rgba(60, 64, 67, 0.3), 0px 1px 3px 1px rgba(60, 64, 67, 0.15);\n",
              "      fill: #174EA6;\n",
              "    }\n",
              "\n",
              "    .colab-df-buttons div {\n",
              "      margin-bottom: 4px;\n",
              "    }\n",
              "\n",
              "    [theme=dark] .colab-df-convert {\n",
              "      background-color: #3B4455;\n",
              "      fill: #D2E3FC;\n",
              "    }\n",
              "\n",
              "    [theme=dark] .colab-df-convert:hover {\n",
              "      background-color: #434B5C;\n",
              "      box-shadow: 0px 1px 3px 1px rgba(0, 0, 0, 0.15);\n",
              "      filter: drop-shadow(0px 1px 2px rgba(0, 0, 0, 0.3));\n",
              "      fill: #FFFFFF;\n",
              "    }\n",
              "  </style>\n",
              "\n",
              "    <script>\n",
              "      const buttonEl =\n",
              "        document.querySelector('#df-5cc9ef92-6b19-408c-849f-9ad556f109c2 button.colab-df-convert');\n",
              "      buttonEl.style.display =\n",
              "        google.colab.kernel.accessAllowed ? 'block' : 'none';\n",
              "\n",
              "      async function convertToInteractive(key) {\n",
              "        const element = document.querySelector('#df-5cc9ef92-6b19-408c-849f-9ad556f109c2');\n",
              "        const dataTable =\n",
              "          await google.colab.kernel.invokeFunction('convertToInteractive',\n",
              "                                                    [key], {});\n",
              "        if (!dataTable) return;\n",
              "\n",
              "        const docLinkHtml = 'Like what you see? Visit the ' +\n",
              "          '<a target=\"_blank\" href=https://colab.research.google.com/notebooks/data_table.ipynb>data table notebook</a>'\n",
              "          + ' to learn more about interactive tables.';\n",
              "        element.innerHTML = '';\n",
              "        dataTable['output_type'] = 'display_data';\n",
              "        await google.colab.output.renderOutput(dataTable, element);\n",
              "        const docLink = document.createElement('div');\n",
              "        docLink.innerHTML = docLinkHtml;\n",
              "        element.appendChild(docLink);\n",
              "      }\n",
              "    </script>\n",
              "  </div>\n",
              "\n",
              "\n",
              "    <div id=\"df-81e0b192-c3fe-4493-82e9-2d69c888b549\">\n",
              "      <button class=\"colab-df-quickchart\" onclick=\"quickchart('df-81e0b192-c3fe-4493-82e9-2d69c888b549')\"\n",
              "                title=\"Suggest charts\"\n",
              "                style=\"display:none;\">\n",
              "\n",
              "<svg xmlns=\"http://www.w3.org/2000/svg\" height=\"24px\"viewBox=\"0 0 24 24\"\n",
              "     width=\"24px\">\n",
              "    <g>\n",
              "        <path d=\"M19 3H5c-1.1 0-2 .9-2 2v14c0 1.1.9 2 2 2h14c1.1 0 2-.9 2-2V5c0-1.1-.9-2-2-2zM9 17H7v-7h2v7zm4 0h-2V7h2v10zm4 0h-2v-4h2v4z\"/>\n",
              "    </g>\n",
              "</svg>\n",
              "      </button>\n",
              "\n",
              "<style>\n",
              "  .colab-df-quickchart {\n",
              "      --bg-color: #E8F0FE;\n",
              "      --fill-color: #1967D2;\n",
              "      --hover-bg-color: #E2EBFA;\n",
              "      --hover-fill-color: #174EA6;\n",
              "      --disabled-fill-color: #AAA;\n",
              "      --disabled-bg-color: #DDD;\n",
              "  }\n",
              "\n",
              "  [theme=dark] .colab-df-quickchart {\n",
              "      --bg-color: #3B4455;\n",
              "      --fill-color: #D2E3FC;\n",
              "      --hover-bg-color: #434B5C;\n",
              "      --hover-fill-color: #FFFFFF;\n",
              "      --disabled-bg-color: #3B4455;\n",
              "      --disabled-fill-color: #666;\n",
              "  }\n",
              "\n",
              "  .colab-df-quickchart {\n",
              "    background-color: var(--bg-color);\n",
              "    border: none;\n",
              "    border-radius: 50%;\n",
              "    cursor: pointer;\n",
              "    display: none;\n",
              "    fill: var(--fill-color);\n",
              "    height: 32px;\n",
              "    padding: 0;\n",
              "    width: 32px;\n",
              "  }\n",
              "\n",
              "  .colab-df-quickchart:hover {\n",
              "    background-color: var(--hover-bg-color);\n",
              "    box-shadow: 0 1px 2px rgba(60, 64, 67, 0.3), 0 1px 3px 1px rgba(60, 64, 67, 0.15);\n",
              "    fill: var(--button-hover-fill-color);\n",
              "  }\n",
              "\n",
              "  .colab-df-quickchart-complete:disabled,\n",
              "  .colab-df-quickchart-complete:disabled:hover {\n",
              "    background-color: var(--disabled-bg-color);\n",
              "    fill: var(--disabled-fill-color);\n",
              "    box-shadow: none;\n",
              "  }\n",
              "\n",
              "  .colab-df-spinner {\n",
              "    border: 2px solid var(--fill-color);\n",
              "    border-color: transparent;\n",
              "    border-bottom-color: var(--fill-color);\n",
              "    animation:\n",
              "      spin 1s steps(1) infinite;\n",
              "  }\n",
              "\n",
              "  @keyframes spin {\n",
              "    0% {\n",
              "      border-color: transparent;\n",
              "      border-bottom-color: var(--fill-color);\n",
              "      border-left-color: var(--fill-color);\n",
              "    }\n",
              "    20% {\n",
              "      border-color: transparent;\n",
              "      border-left-color: var(--fill-color);\n",
              "      border-top-color: var(--fill-color);\n",
              "    }\n",
              "    30% {\n",
              "      border-color: transparent;\n",
              "      border-left-color: var(--fill-color);\n",
              "      border-top-color: var(--fill-color);\n",
              "      border-right-color: var(--fill-color);\n",
              "    }\n",
              "    40% {\n",
              "      border-color: transparent;\n",
              "      border-right-color: var(--fill-color);\n",
              "      border-top-color: var(--fill-color);\n",
              "    }\n",
              "    60% {\n",
              "      border-color: transparent;\n",
              "      border-right-color: var(--fill-color);\n",
              "    }\n",
              "    80% {\n",
              "      border-color: transparent;\n",
              "      border-right-color: var(--fill-color);\n",
              "      border-bottom-color: var(--fill-color);\n",
              "    }\n",
              "    90% {\n",
              "      border-color: transparent;\n",
              "      border-bottom-color: var(--fill-color);\n",
              "    }\n",
              "  }\n",
              "</style>\n",
              "\n",
              "      <script>\n",
              "        async function quickchart(key) {\n",
              "          const quickchartButtonEl =\n",
              "            document.querySelector('#' + key + ' button');\n",
              "          quickchartButtonEl.disabled = true;  // To prevent multiple clicks.\n",
              "          quickchartButtonEl.classList.add('colab-df-spinner');\n",
              "          try {\n",
              "            const charts = await google.colab.kernel.invokeFunction(\n",
              "                'suggestCharts', [key], {});\n",
              "          } catch (error) {\n",
              "            console.error('Error during call to suggestCharts:', error);\n",
              "          }\n",
              "          quickchartButtonEl.classList.remove('colab-df-spinner');\n",
              "          quickchartButtonEl.classList.add('colab-df-quickchart-complete');\n",
              "        }\n",
              "        (() => {\n",
              "          let quickchartButtonEl =\n",
              "            document.querySelector('#df-81e0b192-c3fe-4493-82e9-2d69c888b549 button');\n",
              "          quickchartButtonEl.style.display =\n",
              "            google.colab.kernel.accessAllowed ? 'block' : 'none';\n",
              "        })();\n",
              "      </script>\n",
              "    </div>\n",
              "\n",
              "    </div>\n",
              "  </div>\n"
            ],
            "application/vnd.google.colaboratory.intrinsic+json": {
              "type": "dataframe",
              "summary": "{\n  \"name\": \"df2_sorted\",\n  \"rows\": 5,\n  \"fields\": [\n    {\n      \"column\": \"A\",\n      \"properties\": {\n        \"dtype\": \"number\",\n        \"std\": 0.26248342582597994,\n        \"min\": 1.9460293056413096,\n        \"max\": 2.60294802646355,\n        \"num_unique_values\": 5,\n        \"samples\": [\n          2.3831226294628087,\n          1.9460293056413096,\n          2.1501374118814005\n        ],\n        \"semantic_type\": \"\",\n        \"description\": \"\"\n      }\n    },\n    {\n      \"column\": \"C\",\n      \"properties\": {\n        \"dtype\": \"number\",\n        \"std\": 0.635820601915847,\n        \"min\": -1.0946490715744193,\n        \"max\": 0.24676877119337395,\n        \"num_unique_values\": 5,\n        \"samples\": [\n          -1.0780496270491495,\n          -1.032057353743414,\n          -0.10901214160660519\n        ],\n        \"semantic_type\": \"\",\n        \"description\": \"\"\n      }\n    }\n  ]\n}"
            }
          },
          "metadata": {},
          "execution_count": 13
        }
      ]
    },
    {
      "cell_type": "markdown",
      "source": [
        "### 4. Handle missing data:"
      ],
      "metadata": {
        "id": "JyeVwRso1F31"
      }
    },
    {
      "cell_type": "code",
      "source": [
        " df_nan = pd.DataFrame({'X':[1,None,3],'Y':[None,2,3]})\n",
        " df_nan.dropna(), df_nan.fillna(0)"
      ],
      "metadata": {
        "colab": {
          "base_uri": "https://localhost:8080/"
        },
        "id": "PMCwvQlr1Rm0",
        "outputId": "dd7da573-4a28-40da-9e61-50e1094e9ac3"
      },
      "execution_count": 14,
      "outputs": [
        {
          "output_type": "execute_result",
          "data": {
            "text/plain": [
              "(     X    Y\n",
              " 2  3.0  3.0,\n",
              "      X    Y\n",
              " 0  1.0  0.0\n",
              " 1  0.0  2.0\n",
              " 2  3.0  3.0)"
            ]
          },
          "metadata": {},
          "execution_count": 14
        }
      ]
    },
    {
      "cell_type": "markdown",
      "source": [
        "### 5. Excel I/O:"
      ],
      "metadata": {
        "id": "RoX1df_g11dJ"
      }
    },
    {
      "cell_type": "code",
      "source": [
        " df_weather = pd.read_excel('weather.xlsx')\n",
        " df_weather.tail()\n",
        " df_weather.to_excel('weather_updated.xlsx')"
      ],
      "metadata": {
        "id": "EsJaMcPI1wxS"
      },
      "execution_count": 15,
      "outputs": []
    },
    {
      "cell_type": "markdown",
      "source": [
        "#Exercise 5: Loading Open Dataset from UCI Repository"
      ],
      "metadata": {
        "id": "LXFAEiBJ2YWV"
      }
    },
    {
      "cell_type": "markdown",
      "source": [
        "### 1. Load Wine dataset:"
      ],
      "metadata": {
        "id": "FBmGwwq42clt"
      }
    },
    {
      "cell_type": "code",
      "source": [
        " wine_url = 'https://archive.ics.uci.edu/ml/machine-learning-databases/wine/wine.data'\n",
        " cols = ['Class','Alcohol','Malic_acid','Ash',' Alcalinity_of_ash',\n",
        " 'Magnesium', ' Total␣phenols','Flavanoids','Nonflavanoid␣phenols',\n",
        " 'Proanthocyanins','Color_intensity','Hue',\n",
        " 'OD280/OD315_of_diluted␣wines','Proline']\n",
        "\n",
        " df_wine = pd.read_csv(wine_url,names=cols)\n",
        " print(df_wine.head(10))"
      ],
      "metadata": {
        "colab": {
          "base_uri": "https://localhost:8080/"
        },
        "id": "-WwEkLWi2h7d",
        "outputId": "35465845-3b20-4b36-af9e-661bd5e3400e"
      },
      "execution_count": null,
      "outputs": [
        {
          "output_type": "stream",
          "name": "stdout",
          "text": [
            "   Class  Alcohol  Malic_acid   Ash   Alcalinity_of_ash  Magnesium  \\\n",
            "0      1    14.23        1.71  2.43                15.6        127   \n",
            "1      1    13.20        1.78  2.14                11.2        100   \n",
            "2      1    13.16        2.36  2.67                18.6        101   \n",
            "3      1    14.37        1.95  2.50                16.8        113   \n",
            "4      1    13.24        2.59  2.87                21.0        118   \n",
            "5      1    14.20        1.76  2.45                15.2        112   \n",
            "6      1    14.39        1.87  2.45                14.6         96   \n",
            "7      1    14.06        2.15  2.61                17.6        121   \n",
            "8      1    14.83        1.64  2.17                14.0         97   \n",
            "9      1    13.86        1.35  2.27                16.0         98   \n",
            "\n",
            "    Total␣phenols  Flavanoids  Nonflavanoid␣phenols  Proanthocyanins  \\\n",
            "0            2.80        3.06                  0.28             2.29   \n",
            "1            2.65        2.76                  0.26             1.28   \n",
            "2            2.80        3.24                  0.30             2.81   \n",
            "3            3.85        3.49                  0.24             2.18   \n",
            "4            2.80        2.69                  0.39             1.82   \n",
            "5            3.27        3.39                  0.34             1.97   \n",
            "6            2.50        2.52                  0.30             1.98   \n",
            "7            2.60        2.51                  0.31             1.25   \n",
            "8            2.80        2.98                  0.29             1.98   \n",
            "9            2.98        3.15                  0.22             1.85   \n",
            "\n",
            "   Color_intensity   Hue  OD280/OD315_of_diluted␣wines  Proline  \n",
            "0             5.64  1.04                          3.92     1065  \n",
            "1             4.38  1.05                          3.40     1050  \n",
            "2             5.68  1.03                          3.17     1185  \n",
            "3             7.80  0.86                          3.45     1480  \n",
            "4             4.32  1.04                          2.93      735  \n",
            "5             6.75  1.05                          2.85     1450  \n",
            "6             5.25  1.02                          3.58     1290  \n",
            "7             5.05  1.06                          3.58     1295  \n",
            "8             5.20  1.08                          2.85     1045  \n",
            "9             7.22  1.01                          3.55     1045  \n"
          ]
        }
      ]
    },
    {
      "cell_type": "markdown",
      "source": [
        "### 2. Group by class:"
      ],
      "metadata": {
        "id": "Mx_9_QL0CNTw"
      }
    },
    {
      "cell_type": "code",
      "source": [
        " wine_means = df_wine.groupby('Class').mean()\n",
        " print(wine_means)"
      ],
      "metadata": {
        "colab": {
          "base_uri": "https://localhost:8080/"
        },
        "id": "-G9mSsFICRzm",
        "outputId": "85fcac63-11b1-4e61-b28b-d99e62e246c1"
      },
      "execution_count": null,
      "outputs": [
        {
          "output_type": "stream",
          "name": "stdout",
          "text": [
            "         Alcohol  Malic_acid       Ash   Alcalinity_of_ash   Magnesium  \\\n",
            "Class                                                                    \n",
            "1      13.744746    2.010678  2.455593           17.037288  106.338983   \n",
            "2      12.278732    1.932676  2.244789           20.238028   94.549296   \n",
            "3      13.153750    3.333750  2.437083           21.416667   99.312500   \n",
            "\n",
            "        Total␣phenols  Flavanoids  Nonflavanoid␣phenols  Proanthocyanins  \\\n",
            "Class                                                                      \n",
            "1            2.840169    2.982373              0.290000         1.899322   \n",
            "2            2.258873    2.080845              0.363662         1.630282   \n",
            "3            1.678750    0.781458              0.447500         1.153542   \n",
            "\n",
            "       Color_intensity       Hue  OD280/OD315_of_diluted␣wines      Proline  \n",
            "Class                                                                        \n",
            "1             5.528305  1.062034                      3.157797  1115.711864  \n",
            "2             3.086620  1.056282                      2.785352   519.507042  \n",
            "3             7.396250  0.682708                      1.683542   629.895833  \n"
          ]
        }
      ]
    },
    {
      "cell_type": "markdown",
      "source": [
        "#Exercise 6: scikit-learn Iris Dataset (Extended)"
      ],
      "metadata": {
        "id": "3Rrw8801CanF"
      }
    },
    {
      "cell_type": "markdown",
      "source": [
        "### 1. Load and preview Iris:"
      ],
      "metadata": {
        "id": "oDSgVqq0Cpdk"
      }
    },
    {
      "cell_type": "code",
      "source": [
        "from sklearn import datasets\n",
        "iris = datasets.load_iris()\n",
        "df_iris = pd.DataFrame(iris.data,columns=iris.feature_names)\n",
        "df_iris ['target'] = iris .target\n",
        "print(df_iris.head())"
      ],
      "metadata": {
        "colab": {
          "base_uri": "https://localhost:8080/"
        },
        "id": "fJWVvSrbColM",
        "outputId": "20e916e4-7285-4222-b347-c42a036c310d"
      },
      "execution_count": null,
      "outputs": [
        {
          "output_type": "stream",
          "name": "stdout",
          "text": [
            "   sepal length (cm)  sepal width (cm)  petal length (cm)  petal width (cm)  \\\n",
            "0                5.1               3.5                1.4               0.2   \n",
            "1                4.9               3.0                1.4               0.2   \n",
            "2                4.7               3.2                1.3               0.2   \n",
            "3                4.6               3.1                1.5               0.2   \n",
            "4                5.0               3.6                1.4               0.2   \n",
            "\n",
            "   target  \n",
            "0       0  \n",
            "1       0  \n",
            "2       0  \n",
            "3       0  \n",
            "4       0  \n"
          ]
        }
      ]
    },
    {
      "cell_type": "markdown",
      "source": [
        "### 2. Train/test split:"
      ],
      "metadata": {
        "id": "-K0SWrpPC0t8"
      }
    },
    {
      "cell_type": "code",
      "source": [
        "from sklearn.model_selection import train_test_split\n",
        "\n",
        "X_train, X_test, y_train, y_test = train_test_split(\n",
        "df_iris [ iris .feature_names], df_iris['target'],\n",
        "test_size=0.3, random_state=42)"
      ],
      "metadata": {
        "id": "vPPQXqC3DDFa"
      },
      "execution_count": null,
      "outputs": []
    },
    {
      "cell_type": "markdown",
      "source": [
        "###3. Model training and evaluation:"
      ],
      "metadata": {
        "id": "zGIoTbk2EbGb"
      }
    },
    {
      "cell_type": "code",
      "source": [
        "from sklearn.linear_model import LogisticRegression\n",
        "from sklearn.metrics import classification_report\n",
        "\n",
        "model = LogisticRegression(max_iter=200)\n",
        "model.fit(X_train,y_train)\n",
        "y_pred = model.predict(X_test)\n",
        "print(classification_report (y_test,y_pred))"
      ],
      "metadata": {
        "colab": {
          "base_uri": "https://localhost:8080/"
        },
        "id": "-BJc1m_IEroh",
        "outputId": "04173e32-ffbc-4045-a948-0efbdfb8d7eb"
      },
      "execution_count": null,
      "outputs": [
        {
          "output_type": "stream",
          "name": "stdout",
          "text": [
            "              precision    recall  f1-score   support\n",
            "\n",
            "           0       1.00      1.00      1.00        19\n",
            "           1       1.00      1.00      1.00        13\n",
            "           2       1.00      1.00      1.00        13\n",
            "\n",
            "    accuracy                           1.00        45\n",
            "   macro avg       1.00      1.00      1.00        45\n",
            "weighted avg       1.00      1.00      1.00        45\n",
            "\n"
          ]
        }
      ]
    }
  ]
}