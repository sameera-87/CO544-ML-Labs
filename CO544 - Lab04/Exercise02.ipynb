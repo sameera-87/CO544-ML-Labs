{
 "cells": [
  {
   "cell_type": "markdown",
   "id": "d5e7ecbb",
   "metadata": {},
   "source": [
    "1. Import the provided groceries.csv dataset."
   ]
  },
  {
   "cell_type": "code",
   "execution_count": null,
   "id": "cacaa9c3",
   "metadata": {},
   "outputs": [
    {
     "name": "stdout",
     "output_type": "stream",
     "text": [
      "         Instant food products  UHT-milk  abrasive cleaner  artif. sweetener  \\\n",
      "0  True                  False     False             False             False   \n",
      "1  True                  False     False             False             False   \n",
      "2  True                  False     False             False             False   \n",
      "3  True                  False     False             False             False   \n",
      "4  True                  False     False             False             False   \n",
      "\n",
      "   baby cosmetics  baby food   bags  baking powder  bathroom cleaner  ...  \\\n",
      "0           False      False  False          False             False  ...   \n",
      "1           False      False  False          False             False  ...   \n",
      "2           False      False  False          False             False  ...   \n",
      "3           False      False  False          False             False  ...   \n",
      "4           False      False  False          False             False  ...   \n",
      "\n",
      "   turkey  vinegar  waffles  whipped/sour cream  whisky  white bread  \\\n",
      "0   False    False    False               False   False        False   \n",
      "1   False    False    False               False   False        False   \n",
      "2   False    False    False               False   False        False   \n",
      "3   False    False    False               False   False        False   \n",
      "4   False    False    False               False   False        False   \n",
      "\n",
      "   white wine  whole milk  yogurt  zwieback  \n",
      "0       False       False   False     False  \n",
      "1       False       False    True     False  \n",
      "2       False        True   False     False  \n",
      "3       False       False    True     False  \n",
      "4       False        True   False     False  \n",
      "\n",
      "[5 rows x 170 columns]\n"
     ]
    }
   ],
   "source": [
    "import pandas as pd\n",
    "from mlxtend.preprocessing import TransactionEncoder\n",
    "\n",
    "# Read the dataset\n",
    "with open('groceries.csv', 'r') as file:\n",
    "    transactions = [line.strip().split(',') for line in file]\n",
    "\n",
    "# Convert to one-hot encoded DataFrame\n",
    "te = TransactionEncoder()\n",
    "te_ary = te.fit(transactions).transform(transactions)\n",
    "df = pd.DataFrame(te_ary, columns=te.columns_)\n",
    "\n",
    "# Show the first few rows\n",
    "print(df.head())\n"
   ]
  },
  {
   "cell_type": "markdown",
   "id": "c9e996d9",
   "metadata": {},
   "source": [
    " 2. Explore the dataset and build the frequent-item DataFrame."
   ]
  },
  {
   "cell_type": "code",
   "execution_count": null,
   "id": "23c6c6d2",
   "metadata": {},
   "outputs": [
    {
     "name": "stdout",
     "output_type": "stream",
     "text": [
      "Number of transactions: 9835\n",
      "Top 10 most frequent items:\n",
      "                    9834\n",
      "whole milk          2513\n",
      "other vegetables    1903\n",
      "rolls/buns          1809\n",
      "soda                1715\n",
      "yogurt              1372\n",
      "bottled water       1087\n",
      "root vegetables     1072\n",
      "tropical fruit      1032\n",
      "shopping bags        969\n",
      "dtype: int64\n",
      "\n",
      "Frequent itemsets (support > 1%):\n",
      "    support         itemsets\n",
      "0  0.999898               ()\n",
      "1  0.033452       (UHT-milk)\n",
      "2  0.017692  (baking powder)\n",
      "3  0.052466           (beef)\n",
      "4  0.033249        (berries)\n"
     ]
    }
   ],
   "source": [
    "from mlxtend.frequent_patterns import apriori\n",
    "\n",
    "# Explore the dataset\n",
    "print(f\"Number of transactions: {len(df)}\")\n",
    "print(\"Top 10 most frequent items:\")\n",
    "print(df.sum().sort_values(ascending=False).head(10))\n",
    "\n",
    "# Build frequent itemsets with minimum support = 0.01 \n",
    "frequent_itemsets = apriori(df, min_support=0.01, use_colnames=True)\n",
    "\n",
    "# View top rows of frequent itemsets\n",
    "print(\"\\nFrequent itemsets (support > 1%):\")\n",
    "print(frequent_itemsets.head())\n"
   ]
  },
  {
   "cell_type": "markdown",
   "id": "69b35feb",
   "metadata": {},
   "source": [
    "3.\tApply the Apriori algorithm to find item sets with support > 8%."
   ]
  },
  {
   "cell_type": "code",
   "execution_count": 5,
   "id": "ffb7131e",
   "metadata": {},
   "outputs": [
    {
     "name": "stdout",
     "output_type": "stream",
     "text": [
      "Frequent itemsets with support > 8%:\n",
      "     support              itemsets\n",
      "0   0.999898                    ()\n",
      "12  0.255516          (whole milk)\n",
      "25  0.255414        (, whole milk)\n",
      "4   0.193493    (other vegetables)\n",
      "17  0.193391  (, other vegetables)\n",
      "6   0.183935          (rolls/buns)\n",
      "19  0.183833        (, rolls/buns)\n",
      "10  0.174377                (soda)\n",
      "23  0.174377              (, soda)\n",
      "13  0.139502              (yogurt)\n",
      "26  0.139400            (, yogurt)\n",
      "2   0.110524       (bottled water)\n",
      "15  0.110524     (, bottled water)\n",
      "7   0.108998     (root vegetables)\n",
      "20  0.108897   (, root vegetables)\n",
      "11  0.104931      (tropical fruit)\n",
      "24  0.104830    (, tropical fruit)\n",
      "9   0.098526       (shopping bags)\n",
      "22  0.098526     (, shopping bags)\n",
      "8   0.093950             (sausage)\n",
      "21  0.093849           (, sausage)\n",
      "5   0.088968              (pastry)\n",
      "18  0.088968            (, pastry)\n",
      "3   0.082766        (citrus fruit)\n",
      "16  0.082664      (, citrus fruit)\n",
      "1   0.080529        (bottled beer)\n",
      "14  0.080529      (, bottled beer)\n"
     ]
    }
   ],
   "source": [
    "from mlxtend.frequent_patterns import apriori\n",
    "\n",
    "# Apply Apriori with minimum support of 8%\n",
    "frequent_itemsets_08 = apriori(df, min_support=0.08, use_colnames=True)\n",
    "\n",
    "# Display the results\n",
    "print(\"Frequent itemsets with support > 8%:\")\n",
    "print(frequent_itemsets_08.sort_values(by='support', ascending=False))\n"
   ]
  },
  {
   "cell_type": "markdown",
   "id": "ed63fe7e",
   "metadata": {},
   "source": [
    "4. Generate association rules using the lift metric."
   ]
  },
  {
   "cell_type": "code",
   "execution_count": 22,
   "id": "c38ac32d",
   "metadata": {},
   "outputs": [
    {
     "name": "stdout",
     "output_type": "stream",
     "text": [
      "Association Rules:\n",
      "               antecedents           consequents   support  confidence  \\\n",
      "44       (root vegetables)    (other vegetables)  0.047382    0.434701   \n",
      "52     (, root vegetables)    (other vegetables)  0.047280    0.434174   \n",
      "54       (root vegetables)  (, other vegetables)  0.047280    0.433769   \n",
      "47    (whipped/sour cream)          (whole milk)  0.032232    0.449645   \n",
      "72  (, whipped/sour cream)          (whole milk)  0.032130    0.448864   \n",
      "45       (root vegetables)          (whole milk)  0.048907    0.448694   \n",
      "74    (whipped/sour cream)        (, whole milk)  0.032130    0.448227   \n",
      "65     (, root vegetables)          (whole milk)  0.048805    0.448179   \n",
      "67       (root vegetables)        (, whole milk)  0.048805    0.447761   \n",
      "46        (tropical fruit)          (whole milk)  0.042298    0.403101   \n",
      "69      (, tropical fruit)          (whole milk)  0.042196    0.402522   \n",
      "71        (tropical fruit)        (, whole milk)  0.042196    0.402132   \n",
      "48                (yogurt)          (whole milk)  0.056024    0.401603   \n",
      "75              (, yogurt)          (whole milk)  0.055923    0.401167   \n",
      "77                (yogurt)        (, whole milk)  0.055923    0.400875   \n",
      "\n",
      "        lift  \n",
      "44  2.246605  \n",
      "52  2.243877  \n",
      "54  2.242963  \n",
      "47  1.759754  \n",
      "72  1.756695  \n",
      "45  1.756031  \n",
      "74  1.754901  \n",
      "65  1.754016  \n",
      "67  1.753078  \n",
      "46  1.577595  \n",
      "69  1.575329  \n",
      "71  1.574429  \n",
      "48  1.571735  \n",
      "75  1.570027  \n",
      "77  1.569507  \n"
     ]
    }
   ],
   "source": [
    "from mlxtend.frequent_patterns import apriori, association_rules\n",
    "\n",
    "# reduce the threshold\n",
    "frequent_itemsets = apriori(df, min_support=0.03, use_colnames=True)\n",
    "\n",
    "# Generate rules , confidence > 0.4\n",
    "rules = association_rules(frequent_itemsets, metric=\"confidence\", min_threshold=0.4)\n",
    "\n",
    "# Drop meaningless association rules\n",
    "rules = rules[(rules['antecedents'].apply(lambda x: len(x) > 0)) &\n",
    "              (rules['consequents'].apply(lambda x: len(x) > 0))]\n",
    "\n",
    "rules = rules[rules['lift'] > 1.2]\n",
    "\n",
    "# Display rules\n",
    "print(\"Association Rules:\")\n",
    "print(rules[['antecedents', 'consequents', 'support', 'confidence', 'lift']].sort_values(by='lift', ascending=False))\n",
    "\n"
   ]
  },
  {
   "cell_type": "markdown",
   "id": "9aae72a5",
   "metadata": {},
   "source": [
    " 6. How many rules satisfy both lift > 4 and confidence > 0.8?"
   ]
  },
  {
   "cell_type": "code",
   "execution_count": null,
   "id": "94de3be9",
   "metadata": {},
   "outputs": [
    {
     "name": "stdout",
     "output_type": "stream",
     "text": [
      "Number of rules with lift > 4 and confidence > 0.8: 0\n",
      "Empty DataFrame\n",
      "Columns: [antecedents, consequents, support, confidence, lift]\n",
      "Index: []\n"
     ]
    }
   ],
   "source": [
    "# Filter rules\n",
    "strong_rules = rules[(rules['lift'] > 4) & (rules['confidence'] > 0.8)]\n",
    "\n",
    "# Display the count \n",
    "print(f\"Number of rules with lift > 4 and confidence > 0.8: {len(strong_rules)}\")\n",
    "print(strong_rules[['antecedents', 'consequents', 'support', 'confidence', 'lift']])\n",
    "\n"
   ]
  }
 ],
 "metadata": {
  "kernelspec": {
   "display_name": "Python 3",
   "language": "python",
   "name": "python3"
  },
  "language_info": {
   "codemirror_mode": {
    "name": "ipython",
    "version": 3
   },
   "file_extension": ".py",
   "mimetype": "text/x-python",
   "name": "python",
   "nbconvert_exporter": "python",
   "pygments_lexer": "ipython3",
   "version": "3.13.3"
  }
 },
 "nbformat": 4,
 "nbformat_minor": 5
}
