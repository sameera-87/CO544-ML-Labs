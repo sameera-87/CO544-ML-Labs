{
 "cells": [
  {
   "cell_type": "code",
   "execution_count": 3,
   "id": "9714e6a9",
   "metadata": {},
   "outputs": [
    {
     "name": "stdout",
     "output_type": "stream",
     "text": [
      "Hello World!\n"
     ]
    }
   ],
   "source": [
    "%matplotlib inline\n",
    "import matplotlib.pyplot as plt\n",
    "import numpy as np\n",
    "\n",
    "print(\"Hello World!\")"
   ]
  },
  {
   "cell_type": "code",
   "execution_count": null,
   "id": "570015b7",
   "metadata": {},
   "outputs": [
    {
     "name": "stdout",
     "output_type": "stream",
     "text": [
      "\n",
      " 0\n",
      "\n",
      " 2.23606797749979 2.23606797749979\n",
      "\n",
      " [[3. 2. 1.]\n",
      " [2. 6. 5.]\n",
      " [1. 5. 9.]]\n",
      "\n",
      " [[0. 0. 0.]\n",
      " [0. 0. 0.]\n",
      " [0. 0. 0.]]\n",
      "\n",
      " (3,)\n",
      "\n",
      " 12.919667419025771\n",
      "\n",
      " 18.0\n",
      "\n",
      " 65.00000000000004\n",
      "\n",
      " [13.11766327  3.44324229  1.43909444]\n",
      "\n",
      " [[-0.19527095 -0.74608451  0.63657455]\n",
      " [-0.59990492 -0.42261825 -0.67934373]\n",
      " [-0.77587586  0.5145403   0.3650547 ]]\n",
      "\n",
      " -2.8150224912813863e-16\n",
      "\n",
      " [[ 1.00000000e+00 -5.55111512e-17  8.32667268e-17]\n",
      " [-5.55111512e-17  1.00000000e+00  5.55111512e-17]\n",
      " [ 8.32667268e-17  5.55111512e-17  1.00000000e+00]]\n"
     ]
    }
   ],
   "source": [
    "x = np.array([1, 2])\n",
    "y = np.array([-2, 1])\n",
    "a = np.dot(x, y)\n",
    "print(\"\\n\",a)\n",
    "\n",
    "b = np.linalg.norm(x) #Euclidean norm\n",
    "c = np.sqrt(x[0]**2 + x[1]**2)\n",
    "print(\"\\n\", b, c)\n",
    "\n",
    "theta = np.arccos(np.dot(x,y) / (np.linalg.norm(x) * np.linalg.norm(y)))\n",
    "\n",
    "B = np.array([[3,2,1], [2,6,5], [1,5,9]], dtype=float)\n",
    "print(\"\\n\", B)\n",
    "print(\"\\n\", B- B.T)\n",
    "\n",
    "z = np.random.rand(3)\n",
    "v = B @ z\n",
    "print(\"\\n\", v.shape)\n",
    "\n",
    "print(\"\\n\", z.T @ B @ z)\n",
    "\n",
    "print(\"\\n\", np.trace(B))\n",
    "print(\"\\n\", np.linalg.det(B))\n",
    "\n",
    "D, U = np.linalg.eig(B)\n",
    "print(\"\\n\", D)\n",
    "print(\"\\n\", U)\n",
    "\n",
    "print(\"\\n\", np.dot(U[:,0], U[:,1]))\n",
    "print(\"\\n\", U @ U.T)"
   ]
  },
  {
   "cell_type": "markdown",
   "id": "39f26072",
   "metadata": {},
   "source": []
  }
 ],
 "metadata": {
  "kernelspec": {
   "display_name": "Python 3",
   "language": "python",
   "name": "python3"
  },
  "language_info": {
   "codemirror_mode": {
    "name": "ipython",
    "version": 3
   },
   "file_extension": ".py",
   "mimetype": "text/x-python",
   "name": "python",
   "nbconvert_exporter": "python",
   "pygments_lexer": "ipython3",
   "version": "undefined.undefined.undefined"
  }
 },
 "nbformat": 4,
 "nbformat_minor": 5
}
