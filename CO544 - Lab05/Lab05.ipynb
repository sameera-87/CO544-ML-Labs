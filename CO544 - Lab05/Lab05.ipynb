{
 "cells": [
  {
   "cell_type": "markdown",
   "id": "06a5ae08",
   "metadata": {},
   "source": [
    "2. Text Classification"
   ]
  },
  {
   "cell_type": "markdown",
   "id": "49486a3a",
   "metadata": {},
   "source": [
    "(a) Importing required modules"
   ]
  },
  {
   "cell_type": "code",
   "execution_count": 7,
   "id": "213f8b54",
   "metadata": {},
   "outputs": [
    {
     "name": "stderr",
     "output_type": "stream",
     "text": [
      "[nltk_data] Downloading package stopwords to\n",
      "[nltk_data]     C:\\Users\\Sameera\\AppData\\Roaming\\nltk_data...\n",
      "[nltk_data]   Unzipping corpora\\stopwords.zip.\n",
      "[nltk_data] Downloading package wordnet to\n",
      "[nltk_data]     C:\\Users\\Sameera\\AppData\\Roaming\\nltk_data...\n"
     ]
    },
    {
     "data": {
      "text/plain": [
       "True"
      ]
     },
     "execution_count": 7,
     "metadata": {},
     "output_type": "execute_result"
    }
   ],
   "source": [
    "import re # Regular expressions\n",
    "from sklearn.datasets import load_files # For loading dataset folders\n",
    "import nltk # Natural Language Toolkit\n",
    "\n",
    "from nltk.corpus import stopwords # Stop words\n",
    "from nltk.stem import WordNetLemmatizer # Lemmatization\n",
    "\n",
    "# Download required NLTK resources\n",
    " \n",
    "nltk.download('stopwords')\n",
    "nltk.download('wordnet')"
   ]
  },
  {
   "cell_type": "markdown",
   "id": "68b5354c",
   "metadata": {},
   "source": [
    "(b) Loading data"
   ]
  },
  {
   "cell_type": "code",
   "execution_count": 8,
   "id": "27115852",
   "metadata": {},
   "outputs": [],
   "source": [
    "# Instantiate lemmatizer (needed for later)\n",
    "lemmatizer = WordNetLemmatizer()\n",
    "\n",
    "# movie_data = load_files(r\"txt_sentoken\")\n",
    "movie_data = load_files(r\"movie_reviews\")\n",
    "X , y = movie_data.data, movie_data.target\n"
   ]
  },
  {
   "cell_type": "code",
   "execution_count": 9,
   "id": "d76efc93",
   "metadata": {},
   "outputs": [
    {
     "name": "stdout",
     "output_type": "stream",
     "text": [
      "Number of documents: 2000\n",
      "Number of labels: 2000\n",
      "Target names (classes): ['neg', 'pos']\n",
      "\n",
      "First document (raw bytes):\n",
      "b\"arnold schwarzenegger has been an icon for action enthusiasts , since the late 80's , but lately his films have been very sloppy and the one-liners are getting worse . \\nit's hard seeing arnold as mr . freeze in batman and robin , especially when he says tons of ice jokes , but hey he got 15 million , what's it matter to him ? \\nonce again arnold has signed to do another expensive blockbuster , that can't compare with the likes of the terminator series , true lies and even eraser . \\nin this so cal\"\n",
      "\n",
      "First document (decoded):\n",
      "arnold schwarzenegger has been an icon for action enthusiasts , since the late 80's , but lately his films have been very sloppy and the one-liners are getting worse . \n",
      "it's hard seeing arnold as mr . freeze in batman and robin , especially when he says tons of ice jokes , but hey he got 15 million , what's it matter to him ? \n",
      "once again arnold has signed to do another expensive blockbuster , that can't compare with the likes of the terminator series , true lies and even eraser . \n",
      "in this so cal\n",
      "\n",
      "Label of first document: 0\n"
     ]
    }
   ],
   "source": [
    "# Show basic summary information\n",
    "print(f\"Number of documents: {len(X)}\")\n",
    "print(f\"Number of labels: {len(y)}\")\n",
    "print(f\"Target names (classes): {movie_data.target_names}\")\n",
    "\n",
    "# Show a sample file (before decoding)\n",
    "print(\"\\nFirst document (raw bytes):\")\n",
    "print(X[0][:500]) # show first 500 bytes\n",
    "\n",
    "# Decode and print a preview\n",
    "print(\"\\nFirst document (decoded):\")\n",
    "print(X[0].decode('utf-8')[:500]) # show first 500 characters\n",
    "\n",
    "# Check label of first document\n",
    "print(f\"\\nLabel of first document: {y[0]}\")"
   ]
  }
 ],
 "metadata": {
  "kernelspec": {
   "display_name": "Python 3",
   "language": "python",
   "name": "python3"
  },
  "language_info": {
   "codemirror_mode": {
    "name": "ipython",
    "version": 3
   },
   "file_extension": ".py",
   "mimetype": "text/x-python",
   "name": "python",
   "nbconvert_exporter": "python",
   "pygments_lexer": "ipython3",
   "version": "3.13.3"
  }
 },
 "nbformat": 4,
 "nbformat_minor": 5
}
